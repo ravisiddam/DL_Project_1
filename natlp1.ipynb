{
  "nbformat": 4,
  "nbformat_minor": 0,
  "metadata": {
    "colab": {
      "name": "natlp1.ipynb",
      "version": "0.3.2",
      "provenance": [],
      "include_colab_link": true
    },
    "language_info": {
      "codemirror_mode": {
        "name": "ipython",
        "version": 3
      },
      "file_extension": ".py",
      "mimetype": "text/x-python",
      "name": "python",
      "nbconvert_exporter": "python",
      "pygments_lexer": "ipython3",
      "version": "3.6.5"
    },
    "kernelspec": {
      "name": "python3",
      "display_name": "Python 3"
    },
    "accelerator": "GPU"
  },
  "cells": [
    {
      "cell_type": "markdown",
      "metadata": {
        "id": "view-in-github",
        "colab_type": "text"
      },
      "source": [
        "<a href=\"https://colab.research.google.com/github/ravisiddam/DL_Project_1/blob/master/natlp1.ipynb\" target=\"_parent\"><img src=\"https://colab.research.google.com/assets/colab-badge.svg\" alt=\"Open In Colab\"/></a>"
      ]
    },
    {
      "cell_type": "code",
      "metadata": {
        "id": "qIk-6BfpSHUx",
        "colab_type": "code",
        "colab": {
          "base_uri": "https://localhost:8080/",
          "height": 175
        },
        "outputId": "e8b1c7b6-9c04-4c9b-a2dc-b434632ef242"
      },
      "source": [
        "#https://www.analyticsvidhya.com/blog/2017/10/essential-nlp-guide-data-scientists-top-10-nlp-tasks/\n",
        "!pip install stemming"
      ],
      "execution_count": 2,
      "outputs": [
        {
          "output_type": "stream",
          "text": [
            "Collecting stemming\n",
            "  Downloading https://files.pythonhosted.org/packages/d1/eb/fd53fb51b83a4e3b8e98cfec2fa9e4b99401fce5177ec346e4a5c61df71e/stemming-1.0.1.tar.gz\n",
            "Building wheels for collected packages: stemming\n",
            "  Building wheel for stemming (setup.py) ... \u001b[?25l\u001b[?25hdone\n",
            "  Stored in directory: /root/.cache/pip/wheels/e8/05/2e/2ddeb64d4464b854b48323f9676528c17560da7d153db7b0e2\n",
            "Successfully built stemming\n",
            "Installing collected packages: stemming\n",
            "Successfully installed stemming-1.0.1\n"
          ],
          "name": "stdout"
        }
      ]
    },
    {
      "cell_type": "code",
      "metadata": {
        "id": "90ou6Q8DSHU9",
        "colab_type": "code",
        "colab": {
          "base_uri": "https://localhost:8080/",
          "height": 34
        },
        "outputId": "f612315f-5c51-4e1a-a56e-6d81b658abd1"
      },
      "source": [
        "from stemming.porter2 import stem\n",
        "stem(\"casually\")"
      ],
      "execution_count": 3,
      "outputs": [
        {
          "output_type": "execute_result",
          "data": {
            "text/plain": [
              "'casual'"
            ]
          },
          "metadata": {
            "tags": []
          },
          "execution_count": 3
        }
      ]
    },
    {
      "cell_type": "code",
      "metadata": {
        "id": "lzfHSf2xSHVB",
        "colab_type": "code",
        "colab": {
          "base_uri": "https://localhost:8080/",
          "height": 34
        },
        "outputId": "21da2e2c-c947-4c8f-c3c1-7fa1b8702487"
      },
      "source": [
        "stem(\"happening\")"
      ],
      "execution_count": 4,
      "outputs": [
        {
          "output_type": "execute_result",
          "data": {
            "text/plain": [
              "'happen'"
            ]
          },
          "metadata": {
            "tags": []
          },
          "execution_count": 4
        }
      ]
    },
    {
      "cell_type": "code",
      "metadata": {
        "id": "pns0ySLzSTJX",
        "colab_type": "code",
        "colab": {}
      },
      "source": [
        "#!pip install spacy"
      ],
      "execution_count": 0,
      "outputs": []
    },
    {
      "cell_type": "code",
      "metadata": {
        "id": "Qtv44ZNZSHVF",
        "colab_type": "code",
        "colab": {}
      },
      "source": [
        "import spacy\n",
        "doc ='Beginner Performance UnderValued'\n",
        "nlp = spacy.load('en_core_web_sm')"
      ],
      "execution_count": 0,
      "outputs": []
    },
    {
      "cell_type": "code",
      "metadata": {
        "id": "idh6JmOnSHVI",
        "colab_type": "code",
        "colab": {
          "base_uri": "https://localhost:8080/",
          "height": 69
        },
        "outputId": "2c1e4368-4482-4551-f56a-51e89bd9608a"
      },
      "source": [
        "for token in nlp(doc):\n",
        "    print(token, token.lemma_)"
      ],
      "execution_count": 7,
      "outputs": [
        {
          "output_type": "stream",
          "text": [
            "Beginner beginner\n",
            "Performance performance\n",
            "UnderValued undervalue\n"
          ],
          "name": "stdout"
        }
      ]
    },
    {
      "cell_type": "code",
      "metadata": {
        "id": "-ZhQa4zOSj8Y",
        "colab_type": "code",
        "colab": {
          "base_uri": "https://localhost:8080/",
          "height": 227
        },
        "outputId": "675c9b19-b086-422b-d933-977e9e5e71b0"
      },
      "source": [
        "!wget -c \"https://s3.amazonaws.com/dl4j-distribution/GoogleNews-vectors-negative300.bin.gz\""
      ],
      "execution_count": 8,
      "outputs": [
        {
          "output_type": "stream",
          "text": [
            "--2019-06-07 00:19:02--  https://s3.amazonaws.com/dl4j-distribution/GoogleNews-vectors-negative300.bin.gz\n",
            "Resolving s3.amazonaws.com (s3.amazonaws.com)... 52.216.113.205\n",
            "Connecting to s3.amazonaws.com (s3.amazonaws.com)|52.216.113.205|:443... connected.\n",
            "HTTP request sent, awaiting response... 200 OK\n",
            "Length: 1647046227 (1.5G) [application/x-gzip]\n",
            "Saving to: ‘GoogleNews-vectors-negative300.bin.gz’\n",
            "\n",
            "GoogleNews-vectors- 100%[===================>]   1.53G  58.3MB/s    in 30s     \n",
            "\n",
            "2019-06-07 00:19:33 (51.9 MB/s) - ‘GoogleNews-vectors-negative300.bin.gz’ saved [1647046227/1647046227]\n",
            "\n"
          ],
          "name": "stdout"
        }
      ]
    },
    {
      "cell_type": "code",
      "metadata": {
        "id": "Pdnew7ZNSHVM",
        "colab_type": "code",
        "colab": {}
      },
      "source": [
        "#!pip freeze"
      ],
      "execution_count": 0,
      "outputs": []
    },
    {
      "cell_type": "code",
      "metadata": {
        "id": "Z4fy9a90SHVQ",
        "colab_type": "code",
        "colab": {}
      },
      "source": [
        "google_news_path = \"GoogleNews-vectors-negative300.bin.gz\"\n",
        "from gensim.models.keyedvectors import KeyedVectors\n",
        "word_vectors = KeyedVectors.load_word2vec_format(google_news_path, binary=True)\n"
      ],
      "execution_count": 0,
      "outputs": []
    },
    {
      "cell_type": "code",
      "metadata": {
        "id": "h-NcFm1uSHVS",
        "colab_type": "code",
        "colab": {
          "base_uri": "https://localhost:8080/",
          "height": 34
        },
        "outputId": "849c5938-3967-452e-82fc-9e6298eef76c"
      },
      "source": [
        "len(word_vectors['internet'])"
      ],
      "execution_count": 17,
      "outputs": [
        {
          "output_type": "execute_result",
          "data": {
            "text/plain": [
              "300"
            ]
          },
          "metadata": {
            "tags": []
          },
          "execution_count": 17
        }
      ]
    },
    {
      "cell_type": "code",
      "metadata": {
        "id": "02MYKt2pVOfi",
        "colab_type": "code",
        "colab": {}
      },
      "source": [
        "from gensim.models.word2vec import Word2Vec"
      ],
      "execution_count": 0,
      "outputs": []
    },
    {
      "cell_type": "code",
      "metadata": {
        "id": "SoTwjRl1VFEc",
        "colab_type": "code",
        "colab": {}
      },
      "source": [
        "sentence=[['first','sentence'],['second','sentence']]\n",
        "model = Word2Vec(sentence, min_count=1,size=300,workers=4)"
      ],
      "execution_count": 0,
      "outputs": []
    },
    {
      "cell_type": "code",
      "metadata": {
        "id": "lEYnjngCVedR",
        "colab_type": "code",
        "colab": {
          "base_uri": "https://localhost:8080/",
          "height": 1385
        },
        "outputId": "acf1c936-3dfa-4d4d-c598-e3237ea398bf"
      },
      "source": [
        "model['sentence']"
      ],
      "execution_count": 23,
      "outputs": [
        {
          "output_type": "stream",
          "text": [
            "/usr/local/lib/python3.6/dist-packages/ipykernel_launcher.py:1: DeprecationWarning: Call to deprecated `__getitem__` (Method will be removed in 4.0.0, use self.wv.__getitem__() instead).\n",
            "  \"\"\"Entry point for launching an IPython kernel.\n"
          ],
          "name": "stderr"
        },
        {
          "output_type": "execute_result",
          "data": {
            "text/plain": [
              "array([-4.77363967e-04, -1.14099072e-04,  1.00275828e-03, -1.38152065e-03,\n",
              "       -1.29953818e-03,  9.40460654e-04,  1.51621527e-03,  1.21614279e-03,\n",
              "       -5.66807576e-05,  1.02579186e-03,  2.28615274e-04,  3.61281534e-04,\n",
              "       -3.36692829e-05,  1.52420311e-03, -1.09486259e-03,  7.11848086e-04,\n",
              "       -1.57709423e-04,  1.01354509e-03,  7.21110264e-04, -8.56238650e-04,\n",
              "       -1.56183029e-03, -1.60667754e-03,  7.44664285e-04, -2.50017503e-04,\n",
              "       -1.36151374e-03, -1.58507447e-03,  4.14678594e-04,  2.95609716e-05,\n",
              "       -1.09248853e-03,  1.30812277e-03,  4.11364425e-04, -1.32703234e-03,\n",
              "       -6.49729045e-04, -1.37902051e-03,  8.12023412e-04, -1.31773681e-03,\n",
              "       -1.51018554e-03, -1.15109456e-03,  4.78468894e-04, -1.03099947e-03,\n",
              "       -6.87776890e-04,  1.34459860e-03,  9.00766696e-04, -1.50900132e-05,\n",
              "        1.49964727e-03, -1.32479996e-03, -7.94208783e-04,  1.56593602e-03,\n",
              "        1.11249939e-03, -1.45108893e-03, -1.17314409e-03, -4.79050068e-04,\n",
              "        1.04899693e-03, -1.65322481e-03,  7.21563585e-04,  9.40333121e-04,\n",
              "       -1.56881186e-04,  1.15677575e-03, -1.12141766e-04,  1.36782776e-03,\n",
              "        1.67878447e-04,  4.68003040e-04,  1.16533611e-03, -4.90210892e-04,\n",
              "        4.04747057e-04,  1.20518077e-03,  6.50731672e-04, -7.31401844e-04,\n",
              "       -1.18684559e-03, -3.97378375e-04,  1.11832959e-03, -1.52242952e-03,\n",
              "       -6.67911663e-04, -9.72811424e-04,  1.10453705e-03,  8.64112051e-04,\n",
              "       -4.27206222e-04,  1.14212453e-03,  1.13972952e-03, -8.40891676e-04,\n",
              "        5.72253775e-05, -8.74592224e-04,  2.75003928e-04,  1.38704653e-03,\n",
              "        3.08228337e-04, -4.10500186e-04,  1.48407556e-03, -2.38589026e-04,\n",
              "        1.52081752e-03,  8.20301822e-04,  2.92606419e-04,  1.32410775e-03,\n",
              "       -1.56461238e-03,  1.43795728e-03,  3.38680431e-04, -7.67918944e-04,\n",
              "        1.55938976e-03,  5.83985471e-04,  1.13708084e-03,  2.74802762e-04,\n",
              "        7.61324889e-04,  1.38832047e-03, -3.96060961e-04,  4.46185004e-04,\n",
              "       -1.17726903e-03, -8.02783834e-05,  1.52156304e-03,  4.85251105e-04,\n",
              "        1.51918316e-03,  4.91300761e-06, -1.04046194e-03, -4.54240799e-04,\n",
              "        9.76264826e-04, -4.68923477e-04, -1.27829215e-03,  1.05845276e-03,\n",
              "        9.37967052e-05, -3.52741888e-04, -9.81479418e-04,  5.31051483e-04,\n",
              "       -1.28914567e-03, -1.25804008e-03, -1.62981160e-03, -7.37411145e-04,\n",
              "        5.76389546e-04,  5.21185109e-04,  1.27854291e-03,  1.51213876e-03,\n",
              "        9.82581056e-04,  1.19443587e-03,  6.96208008e-05, -3.04305780e-04,\n",
              "       -4.08644497e-04, -1.13046006e-03,  1.28436356e-03,  7.68299913e-04,\n",
              "       -4.03661921e-04,  9.63635859e-04,  4.04913502e-04, -6.08723611e-04,\n",
              "       -1.14297552e-03,  1.60237323e-04,  7.79955415e-04, -7.22621684e-04,\n",
              "       -1.49256305e-03,  1.64099364e-03, -1.62595755e-03,  1.65821076e-03,\n",
              "        5.03306335e-04,  1.50049897e-03,  1.45438151e-03,  1.20264664e-03,\n",
              "       -7.94714579e-05, -7.58400070e-04,  7.63873220e-04,  1.29490939e-03,\n",
              "       -7.26327242e-04, -1.15935842e-03, -6.04652043e-04,  1.20945892e-03,\n",
              "       -5.06954559e-04,  9.82496538e-04,  1.51255692e-04, -1.39374007e-03,\n",
              "        4.86508769e-04,  1.63799807e-04,  2.13779538e-04, -5.27922930e-05,\n",
              "       -8.98352708e-04, -1.44213100e-03,  6.61734259e-04, -3.05925001e-04,\n",
              "        1.51249988e-03, -1.10479177e-03,  1.04656024e-03, -7.06029881e-04,\n",
              "       -1.38176838e-03, -1.92324544e-04, -1.64096314e-03, -5.86841721e-04,\n",
              "       -2.38688604e-04,  6.19397952e-07,  1.09964656e-03,  9.21463186e-04,\n",
              "        1.22983102e-03,  1.46442070e-03, -9.86762112e-04, -1.57004781e-03,\n",
              "        3.05258640e-04, -4.42551827e-04,  1.41371274e-03, -1.58196897e-03,\n",
              "       -2.07911871e-04,  1.02499056e-04, -8.67299212e-04,  5.97917126e-04,\n",
              "       -6.18464081e-04, -1.42058823e-03, -2.13258114e-04,  9.57419805e-04,\n",
              "       -1.39763695e-03, -1.22571783e-03, -4.84479417e-04,  4.49604267e-04,\n",
              "       -4.70033381e-04, -6.51794893e-04, -2.20332338e-04, -1.47842907e-03,\n",
              "        1.58767984e-03,  1.58948591e-04, -1.38439005e-03, -4.87884798e-04,\n",
              "       -1.09161518e-03,  1.02240324e-03, -1.40358019e-03, -1.19237113e-03,\n",
              "        9.12989140e-04, -2.55697989e-04,  1.54026970e-03,  1.42879988e-04,\n",
              "       -6.41978637e-04,  1.33486756e-03,  8.29707773e-04, -9.91083332e-04,\n",
              "       -1.18543091e-03, -2.56882631e-04, -1.13109173e-03, -5.81224274e-04,\n",
              "       -1.64158002e-03,  3.18781851e-04, -2.45256699e-04, -1.35544781e-03,\n",
              "        1.39801123e-03,  1.09079725e-03,  3.40656625e-05, -1.14392966e-03,\n",
              "        1.06568541e-03,  1.19655579e-03, -1.00620813e-03, -5.59647102e-04,\n",
              "       -9.72001057e-04,  1.60413166e-03,  1.18866400e-03,  6.77225238e-04,\n",
              "       -2.43930568e-04, -6.39715639e-04, -5.49198303e-04,  2.05528704e-04,\n",
              "        5.40972280e-04,  4.65425575e-04,  1.47222390e-03,  1.40036759e-03,\n",
              "        1.39508629e-03,  6.16334364e-05, -1.59882096e-04, -1.45876815e-03,\n",
              "        1.83741256e-04, -1.44586072e-03, -1.62415847e-03,  1.33783382e-03,\n",
              "       -4.46558319e-04, -1.14631001e-03, -1.50629296e-03, -1.31043640e-03,\n",
              "        1.41179992e-03,  1.44697784e-03,  1.22527286e-04, -3.26532521e-04,\n",
              "       -4.26440965e-04, -9.33526200e-04,  9.66124644e-04, -1.43531465e-03,\n",
              "        7.31600798e-04,  7.69524602e-04, -1.45122642e-03,  9.49170382e-04,\n",
              "       -1.24062283e-03, -4.34219430e-04, -1.42414856e-03,  1.01068721e-03,\n",
              "       -1.29323720e-03,  1.52386888e-03, -5.27335622e-04,  5.07952704e-04,\n",
              "        7.35859678e-04, -4.29159991e-04, -3.52383940e-04,  3.60621816e-05,\n",
              "       -2.72535981e-04, -1.09483383e-03,  1.18085521e-03, -1.14400615e-03,\n",
              "        5.33322513e-04,  8.18652275e-04,  4.58732276e-04,  7.27286621e-04,\n",
              "        1.18360994e-03, -3.15554382e-04, -1.13860078e-04, -1.53421075e-04],\n",
              "      dtype=float32)"
            ]
          },
          "metadata": {
            "tags": []
          },
          "execution_count": 23
        }
      ]
    },
    {
      "cell_type": "code",
      "metadata": {
        "id": "l8qWI6oZSHVY",
        "colab_type": "code",
        "colab": {},
        "outputId": "2b5d0a59-9352-4c5b-91f5-48642b57928c"
      },
      "source": [
        "sentence=\"Ashok killed the snake with a stick\"\n",
        "for token in nlp(sentence):\n",
        "    print(token,token.pos_)"
      ],
      "execution_count": 0,
      "outputs": [
        {
          "output_type": "stream",
          "text": [
            "Ashok PROPN\n",
            "killed VERB\n",
            "the DET\n",
            "snake NOUN\n",
            "with ADP\n",
            "a DET\n",
            "stick NOUN\n"
          ],
          "name": "stdout"
        }
      ]
    },
    {
      "cell_type": "code",
      "metadata": {
        "id": "UDQpjiJeSHVg",
        "colab_type": "code",
        "colab": {},
        "outputId": "7e3ec0f0-42d8-4528-a41e-c32974093927"
      },
      "source": [
        "sentence=\"Ram of Apple Inc. travelled to Sydney on 5th October 2017\"\n",
        "for token in nlp(sentence):\n",
        "    print(token, token.ent_type_)"
      ],
      "execution_count": 0,
      "outputs": [
        {
          "output_type": "stream",
          "text": [
            "Ram \n",
            "of \n",
            "Apple ORG\n",
            "Inc. ORG\n",
            "travelled \n",
            "to \n",
            "Sydney GPE\n",
            "on \n",
            "5th DATE\n",
            "October DATE\n",
            "2017 DATE\n"
          ],
          "name": "stdout"
        }
      ]
    },
    {
      "cell_type": "code",
      "metadata": {
        "id": "kk7gZdjrSHVj",
        "colab_type": "code",
        "colab": {},
        "outputId": "5b315771-d87d-4be6-f1cf-7b9cfb3b1544"
      },
      "source": [
        "from gensim.summarization import summarize\n",
        "\n",
        "sentence=\"Automatic summarization is the process of shortening a text document with software, in order to create a summary with the major points of the original document. Technologies that can make a coherent summary take into account variables such as length, writing style and syntax.Automatic data summarization is part of machine learning and data mining. The main idea of summarization is to find a subset of data which contains the information of the entire set. Such techniques are widely used in industry today. Search engines are an example; others include summarization of documents, image collections and videos. Document summarization tries to create a representative summary or abstract of the entire document, by finding the most informative sentences, while in image summarization the system finds the most representative and important (i.e. salient) images. For surveillance videos, one might want to extract the important events from the uneventful context.There are two general approaches to automatic summarization: extraction and abstraction. Extractive methods work by selecting a subset of existing words, phrases, or sentences in the original text to form the summary. In contrast, abstractive methods build an internal semantic representation and then use natural language generation techniques to create a summary that is closer to what a human might express. Such a summary might include verbal innovations. Research to date has focused primarily on extractive methods, which are appropriate for image collection summarization and video summarization.\"\n",
        "\n",
        "summarize(sentence)"
      ],
      "execution_count": 0,
      "outputs": [
        {
          "output_type": "stream",
          "text": [
            "C:\\Users\\siddam\\AppData\\Local\\Continuum\\anaconda3\\lib\\site-packages\\gensim\\utils.py:1197: UserWarning: detected Windows; aliasing chunkize to chunkize_serial\n",
            "  warnings.warn(\"detected Windows; aliasing chunkize to chunkize_serial\")\n"
          ],
          "name": "stderr"
        },
        {
          "output_type": "execute_result",
          "data": {
            "text/plain": [
              "'Document summarization tries to create a representative summary or abstract of the entire document, by finding the most informative sentences, while in image summarization the system finds the most representative and important (i.e. salient) images.\\nExtractive methods work by selecting a subset of existing words, phrases, or sentences in the original text to form the summary.'"
            ]
          },
          "metadata": {
            "tags": []
          },
          "execution_count": 5
        }
      ]
    },
    {
      "cell_type": "code",
      "metadata": {
        "id": "k1s6PcBdSHVo",
        "colab_type": "code",
        "colab": {}
      },
      "source": [
        ""
      ],
      "execution_count": 0,
      "outputs": []
    }
  ]
}