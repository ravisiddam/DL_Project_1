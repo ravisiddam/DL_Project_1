{
  "nbformat": 4,
  "nbformat_minor": 0,
  "metadata": {
    "colab": {
      "name": "Machine Learning Basics_Python_Introduction.ipynb",
      "version": "0.3.2",
      "provenance": [],
      "collapsed_sections": [],
      "include_colab_link": true
    },
    "kernelspec": {
      "name": "python3",
      "display_name": "Python 3"
    }
  },
  "cells": [
    {
      "cell_type": "markdown",
      "metadata": {
        "id": "view-in-github",
        "colab_type": "text"
      },
      "source": [
        "<a href=\"https://colab.research.google.com/github/ravisiddam/DL_Project_1/blob/master/Machine_Learning_Basics_Python_Introduction.ipynb\" target=\"_parent\"><img src=\"https://colab.research.google.com/assets/colab-badge.svg\" alt=\"Open In Colab\"/></a>"
      ]
    },
    {
      "cell_type": "markdown",
      "metadata": {
        "id": "i23RmeGm4GvY",
        "colab_type": "text"
      },
      "source": [
        "# Machine learning Python Introduction\n",
        "\n",
        "In this colaboratory notebook, you learn to work with python and machine learning models. we learn to designe and complete small projects.\n",
        "\n",
        "\n",
        "\n",
        "\n",
        "\n",
        "---\n",
        "\n",
        "\n",
        "\n"
      ]
    },
    {
      "cell_type": "markdown",
      "metadata": {
        "id": "To0iWtlHJWPe",
        "colab_type": "text"
      },
      "source": [
        "\n",
        "\n",
        "\n",
        "\n",
        "\n",
        "\n",
        "Import **numpy** which is the fundamental package for scientific computing with Python.\n",
        "\n",
        "\n",
        "*  mainly useful for N-dimensional array objects\n",
        "\n",
        "\n",
        "\n",
        "\n",
        "Import **pandas** which is an open source library providing high-performance, easy-to-use data structures and data analysis tools for the Python programming language."
      ]
    },
    {
      "cell_type": "code",
      "metadata": {
        "id": "RkavSLmBoBE3",
        "colab_type": "code",
        "colab": {}
      },
      "source": [
        "import pandas as pd\n",
        "import numpy as np\n",
        "import matplotlib.pyplot as plt\n",
        "from sklearn import metrics \n",
        "from sklearn import model_selection\n",
        "from sklearn.linear_model import LogisticRegression\n",
        "from sklearn.linear_model import LinearRegression\n",
        "from sklearn.neighbors import KNeighborsClassifier\n"
      ],
      "execution_count": 0,
      "outputs": []
    },
    {
      "cell_type": "markdown",
      "metadata": {
        "id": "mtaPDNlKs4_O",
        "colab_type": "text"
      },
      "source": [
        "Here is an overview of what we are going to cover:\n",
        "\n",
        "\n",
        "* Loading the dataset.\n",
        "* Summarizing the dataset.\n",
        "* Visualizing the dataset.\n",
        "* Evaluating machine learning algorithms.\n",
        "* Making some predictions.\n",
        "* Present the result\n",
        "\n",
        "\n"
      ]
    },
    {
      "cell_type": "markdown",
      "metadata": {
        "id": "823rW-QYofPU",
        "colab_type": "text"
      },
      "source": [
        "To make sure that every single line will be  printed, even if they're in the same cell, we can use the following config:"
      ]
    },
    {
      "cell_type": "code",
      "metadata": {
        "id": "H1rVke7zoXxM",
        "colab_type": "code",
        "colab": {}
      },
      "source": [
        "from IPython.core.interactiveshell import InteractiveShell\n",
        "InteractiveShell.ast_node_interactivity = \"all\""
      ],
      "execution_count": 0,
      "outputs": []
    },
    {
      "cell_type": "markdown",
      "metadata": {
        "id": "1y2FD1XJ8T3i",
        "colab_type": "text"
      },
      "source": [
        "\n",
        "## breast_cancer DataSet\n",
        "\n",
        "\n",
        "The breast cancer dataset is a classic and easy to use binary classification dataset.\n",
        "\n",
        ">-   |  -\n",
        ">---|---\n",
        "> Classes\t| 2\n",
        "> Samples per class\t|212(M),357(B)\n",
        "> Samples total\t|569\n",
        "> Dimensionality\t|30\n",
        "> Features | \treal, positive\n",
        "\n",
        "\n",
        "\n",
        " **data : Bunch**\n",
        "\n",
        "Dictionary-like object, \n",
        "*  the interesting attributes are: ‘data’\n",
        "*  the data to learn, ‘target’, \n",
        "*  the classification labels, ‘target_names’\n",
        "*  the meaning of the labels, ‘feature_names’\n",
        "*  the meaning of the features, and ‘DESCR’, the full description of the dataset\n",
        "*  ‘filename’, the physical location of breast cancer csv dataset (added in version 0.20).\n",
        "\n",
        "\n",
        "#### load data from sklearn data sets\n",
        "\n",
        "scikit-learn - the machine learning algorithms used for data analysis and data mining tasks\n",
        "\n",
        "\n"
      ]
    },
    {
      "cell_type": "code",
      "metadata": {
        "id": "VpnLz5c51Lq2",
        "colab_type": "code",
        "colab": {}
      },
      "source": [
        "from sklearn.datasets import load_breast_cancer\n",
        "breast_data = load_breast_cancer()\n",
        "breast_df = pd.DataFrame(data= np.c_[breast_data['data'], breast_data['target']],\n",
        "                         columns= breast_data['feature_names'].tolist() + ['target'] )\n"
      ],
      "execution_count": 0,
      "outputs": []
    },
    {
      "cell_type": "markdown",
      "metadata": {
        "id": "rrD97Gul2fKD",
        "colab_type": "text"
      },
      "source": [
        "Let's check the shapes of the dataframes:"
      ]
    },
    {
      "cell_type": "code",
      "metadata": {
        "id": "2-univG61YbU",
        "colab_type": "code",
        "outputId": "cc89be74-121a-4140-8262-6a3ff987854d",
        "colab": {
          "base_uri": "https://localhost:8080/",
          "height": 69
        }
      },
      "source": [
        "\n",
        "print(breast_data.data.shape)\n",
        "print(breast_data.target.shape)\n",
        "list(breast_data.target_names)\n"
      ],
      "execution_count": 0,
      "outputs": [
        {
          "output_type": "stream",
          "text": [
            "(569, 30)\n",
            "(569,)\n"
          ],
          "name": "stdout"
        },
        {
          "output_type": "execute_result",
          "data": {
            "text/plain": [
              "['malignant', 'benign']"
            ]
          },
          "metadata": {
            "tags": []
          },
          "execution_count": 31
        }
      ]
    },
    {
      "cell_type": "markdown",
      "metadata": {
        "id": "mIGNc-p8sYH1",
        "colab_type": "text"
      },
      "source": [
        "**Statistical Summary**"
      ]
    },
    {
      "cell_type": "code",
      "metadata": {
        "id": "HHbn_KlKsc1i",
        "colab_type": "code",
        "outputId": "0fe0c19b-3a6e-4e5f-b23b-483cc88bbb2b",
        "colab": {
          "base_uri": "https://localhost:8080/",
          "height": 208
        }
      },
      "source": [
        "print(breast_df.describe())\n"
      ],
      "execution_count": 0,
      "outputs": [
        {
          "output_type": "stream",
          "text": [
            "       mean radius  mean texture  ...  worst fractal dimension      target\n",
            "count   569.000000    569.000000  ...               569.000000  569.000000\n",
            "mean     14.127292     19.289649  ...                 0.083946    0.627417\n",
            "std       3.524049      4.301036  ...                 0.018061    0.483918\n",
            "min       6.981000      9.710000  ...                 0.055040    0.000000\n",
            "25%      11.700000     16.170000  ...                 0.071460    0.000000\n",
            "50%      13.370000     18.840000  ...                 0.080040    1.000000\n",
            "75%      15.780000     21.800000  ...                 0.092080    1.000000\n",
            "max      28.110000     39.280000  ...                 0.207500    1.000000\n",
            "\n",
            "[8 rows x 31 columns]\n"
          ],
          "name": "stdout"
        }
      ]
    },
    {
      "cell_type": "markdown",
      "metadata": {
        "id": "phb4vRQm9jUa",
        "colab_type": "text"
      },
      "source": [
        "## Splitting data to training and testing sets\n",
        "\n",
        "To investigate performance of our model, we need to split the data to training and testing sets. This will help us to check potential overfitting in our model training.\n",
        "\n",
        "**random_state** as the name suggests, is used for initializing the internal random number generator, which will decide the splitting of data into train and test indices in your case."
      ]
    },
    {
      "cell_type": "code",
      "metadata": {
        "id": "czRPFHbi9mgh",
        "colab_type": "code",
        "colab": {}
      },
      "source": [
        "from sklearn.model_selection import train_test_split\n",
        "\n",
        "X_train, X_test, y_train, y_test = train_test_split(breast_data.data, breast_data.target, test_size=0.30, random_state=5)\n"
      ],
      "execution_count": 0,
      "outputs": []
    },
    {
      "cell_type": "markdown",
      "metadata": {
        "id": "T18GQ3dArCsh",
        "colab_type": "text"
      },
      "source": [
        "\n",
        "\n",
        "# Building classification models\n",
        "\n",
        "Among the available classification methods in Python, we focus on the following five to build classification models in our dataset:\n",
        "\n",
        "* Logistic regression\n",
        "* *K- nearest neighbour *\n",
        "* Naive Bayes\n",
        "* Random forest\n",
        "* Support vector machine"
      ]
    },
    {
      "cell_type": "markdown",
      "metadata": {
        "id": "dYZKd0aAPPGZ",
        "colab_type": "text"
      },
      "source": [
        "# K nearest neighbour(KNN)\n",
        "\n"
      ]
    },
    {
      "cell_type": "code",
      "metadata": {
        "id": "xTqwSBCzMUMy",
        "colab_type": "code",
        "outputId": "8253d426-37d1-4c10-9691-d6fe3bf32dd0",
        "colab": {
          "base_uri": "https://localhost:8080/",
          "height": 69
        }
      },
      "source": [
        "from sklearn.neighbors import KNeighborsClassifier\n",
        "\n",
        "# Initialize our classifier\n",
        "knn = KNeighborsClassifier(n_neighbors=20)\n",
        "\n",
        "# Fitting the model with the data\n",
        "knn.fit(X_train, y_train)"
      ],
      "execution_count": 0,
      "outputs": [
        {
          "output_type": "execute_result",
          "data": {
            "text/plain": [
              "KNeighborsClassifier(algorithm='auto', leaf_size=30, metric='minkowski',\n",
              "           metric_params=None, n_jobs=None, n_neighbors=20, p=2,\n",
              "           weights='uniform')"
            ]
          },
          "metadata": {
            "tags": []
          },
          "execution_count": 6
        }
      ]
    },
    {
      "cell_type": "code",
      "metadata": {
        "id": "16xM3v69PhAo",
        "colab_type": "code",
        "outputId": "064b1942-b338-4228-e71d-c9144b222587",
        "colab": {
          "base_uri": "https://localhost:8080/",
          "height": 208
        }
      },
      "source": [
        "y_pred = knn.predict(X_test)\n",
        "print(y_pred)\n",
        "print(y_test)\n",
        "\n"
      ],
      "execution_count": 0,
      "outputs": [
        {
          "output_type": "stream",
          "text": [
            "[0 1 1 1 1 0 1 1 1 1 1 1 0 1 1 1 1 1 1 1 0 1 1 1 1 1 0 0 1 0 0 0 1 0 1 1 0\n",
            " 1 1 0 1 1 1 0 1 1 0 0 1 0 1 1 1 1 1 0 0 0 1 0 0 1 1 1 1 1 1 1 1 0 1 0 1 1\n",
            " 1 1 1 1 0 0 0 1 0 0 0 1 0 1 0 0 0 0 1 1 0 0 1 1 1 1 1 0 1 1 0 0 1 0 1 0 1\n",
            " 0 1 0 1 1 0 1 0 1 1 1 0 1 0 1 0 1 1 0 1 1 1 1 1 0 1 1 1 1 1 1 1 0 1 1 1 0\n",
            " 1 1 1 0 1 1 1 0 1 1 1 1 1 1 1 1 0 0 1 1 1 1 1]\n",
            "[0 1 1 1 1 0 1 1 1 1 1 1 0 1 1 1 1 1 1 1 0 1 1 1 1 1 0 0 1 0 0 0 0 0 1 1 0\n",
            " 1 1 0 1 1 1 0 1 1 0 0 1 0 1 1 1 1 1 0 0 0 1 0 0 0 1 1 1 1 1 1 0 0 1 0 1 1\n",
            " 1 1 0 1 0 0 0 1 0 0 0 1 0 1 0 0 0 0 1 1 0 0 1 1 1 1 1 0 1 1 0 0 1 0 1 0 1\n",
            " 0 0 0 1 1 0 1 0 1 1 1 0 1 0 1 0 1 1 0 1 1 1 1 1 0 1 1 1 1 1 1 1 0 1 1 1 0\n",
            " 1 1 1 0 1 1 1 0 1 1 1 1 1 1 1 1 0 0 1 1 1 1 1]\n",
            "Hello world\n"
          ],
          "name": "stdout"
        }
      ]
    },
    {
      "cell_type": "markdown",
      "metadata": {
        "id": "MWGxNRhCfqZv",
        "colab_type": "text"
      },
      "source": [
        "# Performance measure\n",
        "\n",
        "To assess performance of the machine learning model, we can use the following measure of the performance of the model:\n",
        "\n",
        "* **Accuracy**: This measure gives you a sense of performance for all the classes together as follows:\n",
        "\n",
        "\\begin{equation*} Accuracy=\\frac{Number\\:of\\:correct\\:predictions}{(Total\\:number\\:of\\:data\\:points (samples))} \\end{equation*}\n",
        "\n",
        "\n",
        "* **Confusion matrix (or error matrix)**: True and false classification of the samples in all the classes can be shown in a matrix which is called confusion (or error) matrix. The columns are usually considered as the predicted classes and rows as actual classes. Hence, the diagonal elements of the matrix will be the total number of true classifcation in each class. \n",
        "\n"
      ]
    },
    {
      "cell_type": "code",
      "metadata": {
        "id": "ZSuig7RfPlls",
        "colab_type": "code",
        "outputId": "f828fa93-b48e-4eda-fe20-32a3ba468625",
        "colab": {
          "base_uri": "https://localhost:8080/",
          "height": 87
        }
      },
      "source": [
        "from sklearn import metrics\n",
        "\n",
        "print(\"accuracy of the predictions:\", metrics.accuracy_score(y_test, y_pred))\n",
        "print(\"Confusion matrix of the predictions:\\n\", metrics.confusion_matrix(y_test, y_pred))\n"
      ],
      "execution_count": 0,
      "outputs": [
        {
          "output_type": "stream",
          "text": [
            "accuracy of the predictions: 0.9707602339181286\n",
            "Confusion matrix of the predictions:\n",
            " [[ 56   5]\n",
            " [  0 110]]\n"
          ],
          "name": "stdout"
        }
      ]
    },
    {
      "cell_type": "code",
      "metadata": {
        "id": "PWFTaqOw0nPr",
        "colab_type": "code",
        "outputId": "d993965f-9b45-409d-c341-003f003e6b30",
        "colab": {
          "base_uri": "https://localhost:8080/",
          "height": 245
        }
      },
      "source": [
        "from sklearn.model_selection import KFold\n",
        "\n",
        "kf = KFold(n_splits=5,random_state=42,shuffle=True)\n",
        "\n",
        "\n",
        "# these are you training data points:\n",
        "# features and targets\n",
        "X = breast_data.data\n",
        "y = breast_data.target\n",
        "\n",
        "accuracies = []\n",
        "for train_index, test_index in kf.split(X):\n",
        "\n",
        "    data_train   = X[train_index]\n",
        "    target_train = y[train_index]\n",
        "\n",
        "    data_test    = X[test_index]\n",
        "    target_test  = y[test_index]\n",
        "\n",
        "\n",
        "    knn = KNeighborsClassifier()\n",
        "    knn.fit(data_train,target_train)\n",
        "\n",
        "    preds = knn.predict(data_test)\n",
        "\n",
        "    # accuracy for the current fold only    \n",
        "    accuracy = metrics.accuracy_score(target_test,preds)\n",
        "\n",
        "    accuracies.append(accuracy)\n",
        "\n",
        "# this is the average accuracy over all folds\n",
        "average_accuracy = np.mean(accuracies)\n",
        "print(\"\\n\",average_accuracy)"
      ],
      "execution_count": 0,
      "outputs": [
        {
          "output_type": "execute_result",
          "data": {
            "text/plain": [
              "KNeighborsClassifier(algorithm='auto', leaf_size=30, metric='minkowski',\n",
              "                     metric_params=None, n_jobs=None, n_neighbors=5, p=2,\n",
              "                     weights='uniform')"
            ]
          },
          "metadata": {
            "tags": []
          },
          "execution_count": 43
        },
        {
          "output_type": "execute_result",
          "data": {
            "text/plain": [
              "KNeighborsClassifier(algorithm='auto', leaf_size=30, metric='minkowski',\n",
              "                     metric_params=None, n_jobs=None, n_neighbors=5, p=2,\n",
              "                     weights='uniform')"
            ]
          },
          "metadata": {
            "tags": []
          },
          "execution_count": 43
        },
        {
          "output_type": "execute_result",
          "data": {
            "text/plain": [
              "KNeighborsClassifier(algorithm='auto', leaf_size=30, metric='minkowski',\n",
              "                     metric_params=None, n_jobs=None, n_neighbors=5, p=2,\n",
              "                     weights='uniform')"
            ]
          },
          "metadata": {
            "tags": []
          },
          "execution_count": 43
        },
        {
          "output_type": "execute_result",
          "data": {
            "text/plain": [
              "KNeighborsClassifier(algorithm='auto', leaf_size=30, metric='minkowski',\n",
              "                     metric_params=None, n_jobs=None, n_neighbors=5, p=2,\n",
              "                     weights='uniform')"
            ]
          },
          "metadata": {
            "tags": []
          },
          "execution_count": 43
        },
        {
          "output_type": "execute_result",
          "data": {
            "text/plain": [
              "KNeighborsClassifier(algorithm='auto', leaf_size=30, metric='minkowski',\n",
              "                     metric_params=None, n_jobs=None, n_neighbors=5, p=2,\n",
              "                     weights='uniform')"
            ]
          },
          "metadata": {
            "tags": []
          },
          "execution_count": 43
        },
        {
          "output_type": "stream",
          "text": [
            "\n",
            " 0.936686849868033\n"
          ],
          "name": "stdout"
        }
      ]
    },
    {
      "cell_type": "code",
      "metadata": {
        "id": "bvozK6TN2NPq",
        "colab_type": "code",
        "outputId": "fbe47194-7e4d-4e93-e152-0b32086cfb32",
        "colab": {
          "base_uri": "https://localhost:8080/",
          "height": 800
        }
      },
      "source": [
        "\n",
        "# prepare configuration for cross validation test harness\n",
        "seed = 7\n",
        "# prepare models\n",
        "models = []\n",
        "models.append(('LR', LogisticRegression()))\n",
        "models.append(('KNN', KNeighborsClassifier()))\n",
        "\n",
        "# evaluate each model in turn\n",
        "results = {}\n",
        "names = []\n",
        "scoring = 'accuracy'\n",
        "for name, model in [('LR', LogisticRegression()),('KNN', KNeighborsClassifier())]:\n",
        "\tkfold = model_selection.KFold(n_splits=5, random_state=seed)\n",
        "\tcv_results = model_selection.cross_val_score(model, breast_data.data, breast_data.target, cv=kfold, scoring=scoring)\n",
        "  #names.append(name)\n",
        "\tresults.update({name:cv_results})\n",
        "\tprint(f'{name}: {cv_results.mean()}, {cv_results.std()}')\n",
        "\n",
        "# boxplot algorithm comparison\n",
        "fig = plt.figure()\n",
        "fig.suptitle('Algorithm Comparison')\n",
        "ax = fig.add_subplot(111)\n",
        "print(results)\n",
        "plt.boxplot(results.values())\n",
        "ax.set_xticklabels(results.keys())\n",
        "plt.show()"
      ],
      "execution_count": 0,
      "outputs": [
        {
          "output_type": "stream",
          "text": [
            "LR: 0.952553951249806, 0.02259216207824357\n",
            "KNN: 0.9262071106970966, 0.03617389403333163\n"
          ],
          "name": "stdout"
        },
        {
          "output_type": "stream",
          "text": [
            "/usr/local/lib/python3.6/dist-packages/sklearn/linear_model/logistic.py:432: FutureWarning: Default solver will be changed to 'lbfgs' in 0.22. Specify a solver to silence this warning.\n",
            "  FutureWarning)\n",
            "/usr/local/lib/python3.6/dist-packages/sklearn/linear_model/logistic.py:432: FutureWarning: Default solver will be changed to 'lbfgs' in 0.22. Specify a solver to silence this warning.\n",
            "  FutureWarning)\n",
            "/usr/local/lib/python3.6/dist-packages/sklearn/linear_model/logistic.py:432: FutureWarning: Default solver will be changed to 'lbfgs' in 0.22. Specify a solver to silence this warning.\n",
            "  FutureWarning)\n",
            "/usr/local/lib/python3.6/dist-packages/sklearn/linear_model/logistic.py:432: FutureWarning: Default solver will be changed to 'lbfgs' in 0.22. Specify a solver to silence this warning.\n",
            "  FutureWarning)\n",
            "/usr/local/lib/python3.6/dist-packages/sklearn/linear_model/logistic.py:432: FutureWarning: Default solver will be changed to 'lbfgs' in 0.22. Specify a solver to silence this warning.\n",
            "  FutureWarning)\n"
          ],
          "name": "stderr"
        },
        {
          "output_type": "execute_result",
          "data": {
            "text/plain": [
              "Text(0.5, 0.98, 'Algorithm Comparison')"
            ]
          },
          "metadata": {
            "tags": []
          },
          "execution_count": 35
        },
        {
          "output_type": "stream",
          "text": [
            "{'LR': array([0.9122807 , 0.94736842, 0.97368421, 0.97368421, 0.95575221]), 'KNN': array([0.85964912, 0.92105263, 0.96491228, 0.94736842, 0.9380531 ])}\n"
          ],
          "name": "stdout"
        },
        {
          "output_type": "execute_result",
          "data": {
            "text/plain": [
              "{'boxes': [<matplotlib.lines.Line2D at 0x7fed950950f0>,\n",
              "  <matplotlib.lines.Line2D at 0x7fed9509d710>],\n",
              " 'caps': [<matplotlib.lines.Line2D at 0x7fed950959e8>,\n",
              "  <matplotlib.lines.Line2D at 0x7fed95095d30>,\n",
              "  <matplotlib.lines.Line2D at 0x7fed950a8160>,\n",
              "  <matplotlib.lines.Line2D at 0x7fed950a84a8>],\n",
              " 'fliers': [<matplotlib.lines.Line2D at 0x7fed9509d400>,\n",
              "  <matplotlib.lines.Line2D at 0x7fed950a8b38>],\n",
              " 'means': [],\n",
              " 'medians': [<matplotlib.lines.Line2D at 0x7fed9509d0b8>,\n",
              "  <matplotlib.lines.Line2D at 0x7fed950a87f0>],\n",
              " 'whiskers': [<matplotlib.lines.Line2D at 0x7fed95095358>,\n",
              "  <matplotlib.lines.Line2D at 0x7fed950956a0>,\n",
              "  <matplotlib.lines.Line2D at 0x7fed9509da90>,\n",
              "  <matplotlib.lines.Line2D at 0x7fed9509ddd8>]}"
            ]
          },
          "metadata": {
            "tags": []
          },
          "execution_count": 35
        },
        {
          "output_type": "execute_result",
          "data": {
            "text/plain": [
              "[Text(0, 0, 'LR'), Text(0, 0, 'KNN')]"
            ]
          },
          "metadata": {
            "tags": []
          },
          "execution_count": 35
        },
        {
          "output_type": "display_data",
          "data": {
            "image/png": "[encoded data removed]",
            "text/plain": [
              "<Figure size 432x288 with 1 Axes>"
            ]
          },
          "metadata": {
            "tags": []
          }
        }
      ]
    },
    {
      "cell_type": "markdown",
      "metadata": {
        "id": "WdtraPkEQCa7",
        "colab_type": "text"
      },
      "source": [
        "\n",
        "\n",
        "----"
      ]
    },
    {
      "cell_type": "markdown",
      "metadata": {
        "id": "kh4dy3b3GIrt",
        "colab_type": "text"
      },
      "source": [
        "#Useful Links\n",
        "\n",
        "### Installation instructions\n",
        "\n",
        "\n",
        "\n",
        "\n",
        "*   [scikit-learn](https://scikit-learn.org/stable/install.html)\n",
        "*   [Anaconda distribution of Python](https://store.continuum.io/cshop/anaconda/)\n",
        "*   [IPython](http://ipython.org/install.html)\n",
        "\n",
        "\n",
        "### Data Sets\n",
        "\n",
        "*  [scikit-learn DataSet](https://scikit-learn.org/stable/datasets/index.html)\n",
        "\n",
        "\n",
        "\n",
        "\n",
        "\n"
      ]
    }
  ]
}